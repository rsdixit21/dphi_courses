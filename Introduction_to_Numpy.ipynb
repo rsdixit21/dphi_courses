{
  "nbformat": 4,
  "nbformat_minor": 0,
  "metadata": {
    "kernelspec": {
      "display_name": "Python 3",
      "language": "python",
      "name": "python3"
    },
    "language_info": {
      "codemirror_mode": {
        "name": "ipython",
        "version": 3
      },
      "file_extension": ".py",
      "mimetype": "text/x-python",
      "name": "python",
      "nbconvert_exporter": "python",
      "pygments_lexer": "ipython3",
      "version": "3.7.5"
    },
    "colab": {
      "name": "Introduction_to_Numpy.ipynb",
      "provenance": [],
      "collapsed_sections": [
        "duzjeUcif80N",
        "zuBioeTlf80X",
        "GwLfLSTlf80l",
        "2-uucNPFf801",
        "cUHAWcogf81A",
        "glWK1SmQf81L",
        "8Zzy41d-f81X",
        "IUcJXROuf81e",
        "3UynyX_tf82I",
        "RjHuCML-f82Z",
        "Q4CsNBFlf82q",
        "7dO7jOTAf82z",
        "VTFMFZL5f83I",
        "rNyg6F4Rf83U",
        "F1c5rQ_ef83k",
        "MKctH8ahf84O",
        "XQrlx6_sf84s",
        "4fQJHzwsf85n",
        "5mza7Wgaf85v",
        "cxq-GcGNf86X",
        "4IZrRPhaf86z",
        "eEOFfrmhf87E",
        "fLS5wApRf87o",
        "A7-1g-4nf88X",
        "01h2ZBRof88c",
        "l4lf81DJf88y",
        "iXJBJnNuf89E",
        "Bwr6bR0Yf89Z",
        "XmZ4smUcf89q",
        "72_3EDqvf89u"
      ]
    }
  },
  "cells": [
    {
      "cell_type": "markdown",
      "metadata": {
        "id": "625hlYMPf8zF"
      },
      "source": [
        "# Week 0\n",
        "# `Numpy`, Scientific and numeric library\n"
      ]
    },
    {
      "cell_type": "markdown",
      "metadata": {
        "id": "xJOXAgfBf8zI"
      },
      "source": [
        "`Numerical Python` popularly known as `Numpy` is core library for scientific computing. It provides high performance multi-dimensional array object and tools for working with these objects. \n",
        "\n",
        "In the following sections, we will be working on the `Numpy` library and its uses. We will compare the performance of some `Numpy` operations with their classic `Python` equivalent and discuss the uses of the library. Let us begin!"
      ]
    },
    {
      "cell_type": "markdown",
      "metadata": {
        "id": "NQCUhFQSf8zK"
      },
      "source": [
        "## 1. Comparing `Python` List vs `Numpy` array (This section is optional and can be skipped)"
      ]
    },
    {
      "cell_type": "markdown",
      "metadata": {
        "id": "Cpk4vXTSHOFd"
      },
      "source": [
        "***You DON'T need to memorize this code - it is just to give you a comparison to know why NumPy is better. Reason: It could be overwhelming sometimes as a beginner so don't hesitate to simply skip section 1 and jump to section 2. However, please ensure you read the conclusion***"
      ]
    },
    {
      "cell_type": "markdown",
      "metadata": {
        "id": "NSQtOH1Rf8zL"
      },
      "source": [
        "Consider the following snippet adapted from https://webcourses.ucf.edu/courses/. We start importing the `numpy` and `timeit` libraries. `Numpy`, as we have stated, enables scientific computing and high performance tasks executions with multi-dimensional or n-dimensional arrays. The `Timer` module from `timeit` library is used for the purpose of calculating the time that certain scripts take."
      ]
    },
    {
      "cell_type": "code",
      "metadata": {
        "id": "i1i1tS9tf8zN"
      },
      "source": [
        "import numpy as np\n",
        "from timeit import Timer"
      ],
      "execution_count": 1,
      "outputs": []
    },
    {
      "cell_type": "markdown",
      "metadata": {
        "id": "louBYzo8f8zY"
      },
      "source": [
        "With imported libraries, we proceed to create two example arrays with numbers in the range [0, 9999]:"
      ]
    },
    {
      "cell_type": "code",
      "metadata": {
        "id": "241igxSDf8za"
      },
      "source": [
        "size_of_vec = 10000\n",
        "X_list = range(size_of_vec)\n",
        "Y_list = range(size_of_vec)\n",
        "X = np.arange(size_of_vec)\n",
        "Y = np.arange(size_of_vec)"
      ],
      "execution_count": 2,
      "outputs": []
    },
    {
      "cell_type": "markdown",
      "metadata": {
        "id": "AzHFPnhEf8zh"
      },
      "source": [
        "To compare the performance of two scripts, one explicitly developed with `Python` and another with `Numpy`, we defined two user functions:"
      ]
    },
    {
      "cell_type": "code",
      "metadata": {
        "id": "SawZl2J_f8zi"
      },
      "source": [
        "def pure_python_version(): #Explicitly Python based with lists\n",
        "    Z = []\n",
        "    for i in range(len(X_list)):\n",
        "        Z.append(X_list[i] + Y_list[i])\n",
        "    \n",
        "def numpy_version(): #Explicitly Numpy based with vectorization\n",
        "    Z = X + Y "
      ],
      "execution_count": 3,
      "outputs": []
    },
    {
      "cell_type": "markdown",
      "metadata": {
        "id": "9BgUjtIrf8zq"
      },
      "source": [
        "We call the developed functions and measure the time it takes to execute them once:"
      ]
    },
    {
      "cell_type": "code",
      "metadata": {
        "id": "dXd9ssVef8zr",
        "colab": {
          "base_uri": "https://localhost:8080/"
        },
        "outputId": "07553843-add0-44b1-b7b2-08234c46101c"
      },
      "source": [
        "timer_obj1 = Timer(\"pure_python_version()\", \n",
        "                   \"from __main__ import pure_python_version\")\n",
        "timer_obj2 = Timer(\"numpy_version()\", \n",
        "                   \"from __main__ import numpy_version\")\n",
        "\n",
        "print(\"Pure python version:\",timer_obj1.timeit(10))\n",
        "print(\"Numpy version:\",timer_obj2.timeit(10))"
      ],
      "execution_count": 4,
      "outputs": [
        {
          "output_type": "stream",
          "name": "stdout",
          "text": [
            "Pure python version: 0.04164696200001572\n",
            "Numpy version: 0.004505252000001292\n"
          ]
        }
      ]
    },
    {
      "cell_type": "markdown",
      "metadata": {
        "id": "XICWRcHEf8z1"
      },
      "source": [
        "As we can see, the vectorized sum approach with `Numpy` is much faster than the purely `Python` based approach."
      ]
    },
    {
      "cell_type": "markdown",
      "metadata": {
        "id": "hCAlmr9ff8z2"
      },
      "source": [
        "## 2.Creating `Numpy` array from `Python` list"
      ]
    },
    {
      "cell_type": "markdown",
      "metadata": {
        "id": "sb_vLAaof8z4"
      },
      "source": [
        "Let's start by creating a `numpy` array from a predefined list with te values 165, 170, 171, 180, 189, and 178:"
      ]
    },
    {
      "cell_type": "code",
      "metadata": {
        "id": "kkLxDnnVf8z5",
        "colab": {
          "base_uri": "https://localhost:8080/"
        },
        "outputId": "b1249693-dcfa-4c66-c3fb-c4357d348fed"
      },
      "source": [
        "heights = [165, 170, 171, 180, 189, 178]\n",
        "print(type(heights))\n",
        "\n",
        "heights_np = np.array(heights)\n",
        "print(type(heights_np))"
      ],
      "execution_count": 5,
      "outputs": [
        {
          "output_type": "stream",
          "name": "stdout",
          "text": [
            "<class 'list'>\n",
            "<class 'numpy.ndarray'>\n"
          ]
        }
      ]
    },
    {
      "cell_type": "markdown",
      "metadata": {
        "id": "iUwolQ_-f80D"
      },
      "source": [
        "The type of object defined at first is a `list`. After conversion with the `.array()` function, the object is converted into a `ndarray` object. This means that we have created an array of multiple dimensions (`n` dimensions) from a `list`. In this case, the `numpy` array is a **one-dimensional array**.\n",
        "\n",
        "Now let's see how to create a **two-dimensional array**:"
      ]
    },
    {
      "cell_type": "code",
      "metadata": {
        "id": "HBRmbMLsf80E",
        "colab": {
          "base_uri": "https://localhost:8080/"
        },
        "outputId": "be047659-6eee-4960-e5ca-8b6fcfd06dde"
      },
      "source": [
        "weights = np.array([[50, 45, 56, 78],[78, 89, 59, 90],[89, 78, 69, 70],[67, 69, 89, 70],[90,89, 80, 84],[89, 59, 90, 78]])\n",
        "print(weights)"
      ],
      "execution_count": 9,
      "outputs": [
        {
          "output_type": "stream",
          "name": "stdout",
          "text": [
            "[[50 45 56 78]\n",
            " [78 89 59 90]\n",
            " [89 78 69 70]\n",
            " [67 69 89 70]\n",
            " [90 89 80 84]\n",
            " [89 59 90 78]]\n"
          ]
        }
      ]
    },
    {
      "cell_type": "markdown",
      "metadata": {
        "id": "duzjeUcif80N"
      },
      "source": [
        "## 3. Exploring some of the key attributes of `ndarray` objects"
      ]
    },
    {
      "cell_type": "markdown",
      "metadata": {
        "id": "JyAN5tiCf80O"
      },
      "source": [
        "Multidimensional arrays have the following important attributes:\n",
        "\n",
        "- `ndim`: number of dimensions of the array\n",
        "- `shape`: shape of the array in the format `(number_rows, number_columns)`\n",
        "- `size`: total number of elements\n",
        "- `dtypes`: type of data stored in the array\n",
        "- `strides`: number of bytes that must be moved to store each row and column in memory, in the format `(number_bytes_files, number_bytes_columns)`\n",
        "\n",
        "Let's see an example:"
      ]
    },
    {
      "cell_type": "code",
      "metadata": {
        "id": "TKVMAgWCf80P",
        "colab": {
          "base_uri": "https://localhost:8080/"
        },
        "outputId": "19a95b91-364a-49c2-a678-ae0fd74deb92"
      },
      "source": [
        "print(\"dimension:\", weights.ndim)\n",
        "print(\"shape:\", weights.shape)\n",
        "print(\"size:\", weights.size)\n",
        "print(\"dtype:\", weights.dtype)\n",
        "print(\"strides:\", weights.strides)"
      ],
      "execution_count": 10,
      "outputs": [
        {
          "output_type": "stream",
          "name": "stdout",
          "text": [
            "dimension: 2\n",
            "shape: (6, 4)\n",
            "size: 24\n",
            "dtype: int64\n",
            "strides: (32, 8)\n"
          ]
        }
      ]
    },
    {
      "cell_type": "markdown",
      "metadata": {
        "id": "y-sKcGcGf80W"
      },
      "source": [
        "Exercise 1\n",
        "Convert the two-dimensional ndarray weights into a three-dimensional object without changing its shape.\n",
        "\n",
        "Answer: By modifying the content of a two-dimensional array, the shape is preserved. If we reshape the arrangement, the content can remain intact. However, when modifying the dimensions of a two-dimensional array and making it three-dimensional, the shape will necessarily change, since we are including an additional dimension, which makes the pair that represents the shape now have a third value and become a triplet."
      ]
    },
    {
      "cell_type": "markdown",
      "metadata": {
        "id": "L4FLs2Y-f80g"
      },
      "source": [
        "## 4. Exploring some of the key functions defined for `numpy` arrays"
      ]
    },
    {
      "cell_type": "markdown",
      "metadata": {
        "id": "4hZBZk5jf80k"
      },
      "source": [
        "In this section we are going to explore some of the most important functions of `numpy` arrays:\n",
        "\n",
        "1. `zeros(shape=(n,m))`: Allows to create a zero-array with the shape (`n` rows, `m` columns)\n",
        "2. `arange(start=i, stop=j, step=u)`: creates a one-dimensional array whose first value is `i` inclusive, last value is `j` exclusive, and each value varies  `s` steps from the previous.\n",
        "3. `linspace(start=i, stop=j, num=n)`: creates a one-dimensional array whose first value is `i` inclusive, last value is `j` inclusive and contains `n` values in total. Each value differs from the previous one with the same magnitude that differs from the next.\n",
        "4. `full(shape=(n,m), fill_value=f)`: Allows to create an array with the shape (`n` rows,` m` columns), where all positions have the value `f`.\n",
        "\n",
        "Let's delve into each of them:"
      ]
    },
    {
      "cell_type": "markdown",
      "metadata": {
        "id": "GwLfLSTlf80l"
      },
      "source": [
        "### 4.1. np.zeros()"
      ]
    },
    {
      "cell_type": "markdown",
      "metadata": {
        "id": "J-zrQhMSf80q"
      },
      "source": [
        "The `zeros(shape=(n,m), dtypes)` function creates a zero-array with the shape (`n` rows, `m` columns) and data types of `dtypes`:"
      ]
    },
    {
      "cell_type": "code",
      "metadata": {
        "id": "9qRWHkudf80t",
        "colab": {
          "base_uri": "https://localhost:8080/"
        },
        "outputId": "f8764672-1026-470a-fda5-87e855231768"
      },
      "source": [
        "x = np.zeros(shape=(3,5), dtype =\"int32\")\n",
        "print(x)"
      ],
      "execution_count": 12,
      "outputs": [
        {
          "output_type": "stream",
          "name": "stdout",
          "text": [
            "[[0 0 0 0 0]\n",
            " [0 0 0 0 0]\n",
            " [0 0 0 0 0]]\n"
          ]
        }
      ]
    },
    {
      "cell_type": "markdown",
      "metadata": {
        "id": "HPwZ4v9wf800"
      },
      "source": [
        "As you can notice, we have created a two-dimensional array of zeros of three rows and five columns where each element is a 32-bit integer."
      ]
    },
    {
      "cell_type": "markdown",
      "metadata": {
        "id": "2-uucNPFf801"
      },
      "source": [
        "### 4.2. np.arange()"
      ]
    },
    {
      "cell_type": "markdown",
      "metadata": {
        "id": "QuRU-nFrf802"
      },
      "source": [
        "The `arange(start=i, stop=j, step=u)` function creates a one-dimensional array whose first value is `i` inclusive, last value is `j` exclusive, and each value varies  `s` steps from the previous:"
      ]
    },
    {
      "cell_type": "code",
      "metadata": {
        "id": "l61EVL0mf803",
        "colab": {
          "base_uri": "https://localhost:8080/"
        },
        "outputId": "04c0d27b-8449-4dbb-c380-22bc5239a9cd"
      },
      "source": [
        "x = np.arange(start=100, stop=1000, step=100, dtype=\"int32\")\n",
        "print(x)"
      ],
      "execution_count": 13,
      "outputs": [
        {
          "output_type": "stream",
          "name": "stdout",
          "text": [
            "[100 200 300 400 500 600 700 800 900]\n"
          ]
        }
      ]
    },
    {
      "cell_type": "markdown",
      "metadata": {
        "id": "HDJFZl9df80-"
      },
      "source": [
        "This function has allowed us to create a one-dimensional array that starts at 100, ends at 1000 (exclusive) and progresses from 100 to 100, with 32-bit integer values."
      ]
    },
    {
      "cell_type": "markdown",
      "metadata": {
        "id": "cUHAWcogf81A"
      },
      "source": [
        "### 4.3. np.linspace()"
      ]
    },
    {
      "cell_type": "markdown",
      "metadata": {
        "id": "k_SPhGvwf81C"
      },
      "source": [
        "The `linspace(start=i, stop=j, num=n)` function creates a one-dimensional array whose first value is `i` inclusive, last value is `j` inclusive and contains `n` values in total. Each value differs from the previous one with the same magnitude that differs from the next. Consider the following example:"
      ]
    },
    {
      "cell_type": "code",
      "metadata": {
        "id": "JrRo0FEBf81D",
        "colab": {
          "base_uri": "https://localhost:8080/"
        },
        "outputId": "34e00540-a4a7-4594-8866-d4ba96b2e424"
      },
      "source": [
        "x_lin = np.linspace(start=10, stop=50, num=30)\n",
        "print(x_lin)"
      ],
      "execution_count": 14,
      "outputs": [
        {
          "output_type": "stream",
          "name": "stdout",
          "text": [
            "[10.         11.37931034 12.75862069 14.13793103 15.51724138 16.89655172\n",
            " 18.27586207 19.65517241 21.03448276 22.4137931  23.79310345 25.17241379\n",
            " 26.55172414 27.93103448 29.31034483 30.68965517 32.06896552 33.44827586\n",
            " 34.82758621 36.20689655 37.5862069  38.96551724 40.34482759 41.72413793\n",
            " 43.10344828 44.48275862 45.86206897 47.24137931 48.62068966 50.        ]\n"
          ]
        }
      ]
    },
    {
      "cell_type": "markdown",
      "metadata": {
        "id": "IsS-p8Yef81I"
      },
      "source": [
        "We have created a one-dimensional array that varies linearly from 10 to 50 inclusive, for a total of 30 floating numbers."
      ]
    },
    {
      "cell_type": "markdown",
      "metadata": {
        "id": "glWK1SmQf81L"
      },
      "source": [
        "### 4.4. np.full()"
      ]
    },
    {
      "cell_type": "markdown",
      "metadata": {
        "id": "PTgQ9ldVf81M"
      },
      "source": [
        "The `full(shape=(n,m), fill_value=f)` function allows to create an array with the shape (`n` rows,` m` columns), where all positions have the value `f`."
      ]
    },
    {
      "cell_type": "code",
      "metadata": {
        "id": "Kf31_4HUf81O",
        "colab": {
          "base_uri": "https://localhost:8080/"
        },
        "outputId": "279d3932-32b4-4b2d-ecd8-81a124a36ba7"
      },
      "source": [
        "x_ful = np.full(shape=(5,6), fill_value=3)\n",
        "print(x_ful)"
      ],
      "execution_count": 15,
      "outputs": [
        {
          "output_type": "stream",
          "name": "stdout",
          "text": [
            "[[3 3 3 3 3 3]\n",
            " [3 3 3 3 3 3]\n",
            " [3 3 3 3 3 3]\n",
            " [3 3 3 3 3 3]\n",
            " [3 3 3 3 3 3]]\n"
          ]
        }
      ]
    },
    {
      "cell_type": "markdown",
      "metadata": {
        "id": "pHL6OuLlf81X"
      },
      "source": [
        "We see that a two-dimensional array of 5 rows and 6 columns has been created, all with a value of 3 at their positions."
      ]
    },
    {
      "cell_type": "markdown",
      "metadata": {
        "id": "8Zzy41d-f81X"
      },
      "source": [
        "## 5. Exploring additional attributes and functions"
      ]
    },
    {
      "cell_type": "markdown",
      "metadata": {
        "id": "jhBU9CN8f81a"
      },
      "source": [
        "Let's review three additional functions: `.reshape()`, `.flatten()` and `.ravel()`."
      ]
    },
    {
      "cell_type": "markdown",
      "metadata": {
        "id": "IUcJXROuf81e"
      },
      "source": [
        "### 5.1. Reshaping the array"
      ]
    },
    {
      "cell_type": "markdown",
      "metadata": {
        "id": "p-hZXH5mf81f"
      },
      "source": [
        "Let's reshape the `weights` numpy array. First take a look to the contant and the shape of `weights`:"
      ]
    },
    {
      "cell_type": "code",
      "metadata": {
        "id": "Uvye9oIxf81g",
        "colab": {
          "base_uri": "https://localhost:8080/"
        },
        "outputId": "184ba46e-1b16-40bf-99f3-515d65bc0f45"
      },
      "source": [
        "weights"
      ],
      "execution_count": 16,
      "outputs": [
        {
          "output_type": "execute_result",
          "data": {
            "text/plain": [
              "array([[50, 45, 56, 78],\n",
              "       [78, 89, 59, 90],\n",
              "       [89, 78, 69, 70],\n",
              "       [67, 69, 89, 70],\n",
              "       [90, 89, 80, 84],\n",
              "       [89, 59, 90, 78]])"
            ]
          },
          "metadata": {},
          "execution_count": 16
        }
      ]
    },
    {
      "cell_type": "code",
      "metadata": {
        "id": "y3uZdhkAf81k",
        "colab": {
          "base_uri": "https://localhost:8080/"
        },
        "outputId": "ef215b5b-12e5-4d0e-f3e9-f0536de1d383"
      },
      "source": [
        "weights.shape"
      ],
      "execution_count": 17,
      "outputs": [
        {
          "output_type": "execute_result",
          "data": {
            "text/plain": [
              "(6, 4)"
            ]
          },
          "metadata": {},
          "execution_count": 17
        }
      ]
    },
    {
      "cell_type": "markdown",
      "metadata": {
        "id": "AoGBOHFff81n"
      },
      "source": [
        "The reshaping procedure is done using the `.reshape((n1,m1))` function, which receives as input parameters a tuple of two values `n1` and `m1` that is, the new shape of the array to be created from the original array:"
      ]
    },
    {
      "cell_type": "code",
      "metadata": {
        "id": "XC76Z_pPf81o",
        "colab": {
          "base_uri": "https://localhost:8080/"
        },
        "outputId": "9d2369f7-d96f-44d6-e9f0-346936b27e71"
      },
      "source": [
        "weights = weights.reshape((4,6))\n",
        "weights"
      ],
      "execution_count": 18,
      "outputs": [
        {
          "output_type": "execute_result",
          "data": {
            "text/plain": [
              "array([[50, 45, 56, 78, 78, 89],\n",
              "       [59, 90, 89, 78, 69, 70],\n",
              "       [67, 69, 89, 70, 90, 89],\n",
              "       [80, 84, 89, 59, 90, 78]])"
            ]
          },
          "metadata": {},
          "execution_count": 18
        }
      ]
    },
    {
      "cell_type": "code",
      "metadata": {
        "id": "TBIXnjdRf81r",
        "colab": {
          "base_uri": "https://localhost:8080/"
        },
        "outputId": "d68aac32-f4db-41d1-890b-e05a146cd08e"
      },
      "source": [
        "weights.shape"
      ],
      "execution_count": 19,
      "outputs": [
        {
          "output_type": "execute_result",
          "data": {
            "text/plain": [
              "(4, 6)"
            ]
          },
          "metadata": {},
          "execution_count": 19
        }
      ]
    },
    {
      "cell_type": "markdown",
      "metadata": {
        "id": "OBHeOcP2f81x"
      },
      "source": [
        "Can you see the difference? We have changed the shape of the `weights` array, from 6 rows and 4 columns, to 4 rows and 6 columns. The way the values are distributed in the new array is from left-to-right then top-to-bottom. \n",
        "\n",
        "Let's add a new dimension through reshaping the current `weights` array:"
      ]
    },
    {
      "cell_type": "code",
      "metadata": {
        "id": "RqjgG-E-f81y",
        "colab": {
          "base_uri": "https://localhost:8080/"
        },
        "outputId": "4801e006-b213-4160-cd50-15339c00a194"
      },
      "source": [
        "weights = weights.reshape((2,6,2))\n",
        "weights"
      ],
      "execution_count": 20,
      "outputs": [
        {
          "output_type": "execute_result",
          "data": {
            "text/plain": [
              "array([[[50, 45],\n",
              "        [56, 78],\n",
              "        [78, 89],\n",
              "        [59, 90],\n",
              "        [89, 78],\n",
              "        [69, 70]],\n",
              "\n",
              "       [[67, 69],\n",
              "        [89, 70],\n",
              "        [90, 89],\n",
              "        [80, 84],\n",
              "        [89, 59],\n",
              "        [90, 78]]])"
            ]
          },
          "metadata": {},
          "execution_count": 20
        }
      ]
    },
    {
      "cell_type": "code",
      "metadata": {
        "id": "gNbMV0uGf811",
        "colab": {
          "base_uri": "https://localhost:8080/"
        },
        "outputId": "d179081f-4c97-46f9-d854-d43c63fed954"
      },
      "source": [
        "weights.shape"
      ],
      "execution_count": 21,
      "outputs": [
        {
          "output_type": "execute_result",
          "data": {
            "text/plain": [
              "(2, 6, 2)"
            ]
          },
          "metadata": {},
          "execution_count": 21
        }
      ]
    },
    {
      "cell_type": "markdown",
      "metadata": {
        "id": "lijIZHcnf82G"
      },
      "source": [
        "Now, the array is three-dimensionally estructured. Two bi-dimensional (2D) arrays conform the new array, and each of the 2D arrays have two rows and six columns."
      ]
    },
    {
      "cell_type": "markdown",
      "metadata": {
        "id": "3UynyX_tf82I"
      },
      "source": [
        "### 5.2. Flattening the array"
      ]
    },
    {
      "cell_type": "markdown",
      "metadata": {
        "id": "IJCbQ0_6f82K"
      },
      "source": [
        "The `.flatten()` function returns a copy of an array collapsed into one dimension, no matter how many dimensions the array has. Consider the `weights` two-dimensional array:"
      ]
    },
    {
      "cell_type": "code",
      "metadata": {
        "id": "G5xkP1TQf82L",
        "colab": {
          "base_uri": "https://localhost:8080/"
        },
        "outputId": "2354798d-d685-4baa-bb24-5576b38ebec4"
      },
      "source": [
        "weights\n"
      ],
      "execution_count": 22,
      "outputs": [
        {
          "output_type": "execute_result",
          "data": {
            "text/plain": [
              "array([[[50, 45],\n",
              "        [56, 78],\n",
              "        [78, 89],\n",
              "        [59, 90],\n",
              "        [89, 78],\n",
              "        [69, 70]],\n",
              "\n",
              "       [[67, 69],\n",
              "        [89, 70],\n",
              "        [90, 89],\n",
              "        [80, 84],\n",
              "        [89, 59],\n",
              "        [90, 78]]])"
            ]
          },
          "metadata": {},
          "execution_count": 22
        }
      ]
    },
    {
      "cell_type": "markdown",
      "metadata": {
        "id": "Z8EB6PCZf82S"
      },
      "source": [
        "If we flatten the array, we are re-organizing their elements in a one-dimensional array, as follows:"
      ]
    },
    {
      "cell_type": "code",
      "metadata": {
        "id": "-n2o9S9tf82T",
        "colab": {
          "base_uri": "https://localhost:8080/"
        },
        "outputId": "e4ab1694-e75f-46d8-8595-d39d8d60181a"
      },
      "source": [
        "weights_flattened = weights.flatten()\n",
        "weights_flattened"
      ],
      "execution_count": 23,
      "outputs": [
        {
          "output_type": "execute_result",
          "data": {
            "text/plain": [
              "array([50, 45, 56, 78, 78, 89, 59, 90, 89, 78, 69, 70, 67, 69, 89, 70, 90,\n",
              "       89, 80, 84, 89, 59, 90, 78])"
            ]
          },
          "metadata": {},
          "execution_count": 23
        }
      ]
    },
    {
      "cell_type": "markdown",
      "metadata": {
        "id": "RjHuCML-f82Z"
      },
      "source": [
        "### 5.3. Raveling the array"
      ]
    },
    {
      "cell_type": "markdown",
      "metadata": {
        "id": "7VmmZT4Tf82b"
      },
      "source": [
        "The `.ravel()` function returns a flattened view of an array collapsed into one dimension. It works identically to the `.flatten()` function, although a copy in memory is not achieve, just a flatten view of the final result. \n",
        "\n",
        "Consider the `weights` two-dimensional array:"
      ]
    },
    {
      "cell_type": "code",
      "metadata": {
        "id": "KKKMIGbtf82d"
      },
      "source": [
        "weights_raveld = weights.ravel()"
      ],
      "execution_count": 24,
      "outputs": []
    },
    {
      "cell_type": "code",
      "metadata": {
        "id": "BQSBXxMrf82j",
        "colab": {
          "base_uri": "https://localhost:8080/"
        },
        "outputId": "ea7b8f43-6a75-47ea-f947-22a84d939742"
      },
      "source": [
        "weights_raveld"
      ],
      "execution_count": 25,
      "outputs": [
        {
          "output_type": "execute_result",
          "data": {
            "text/plain": [
              "array([50, 45, 56, 78, 78, 89, 59, 90, 89, 78, 69, 70, 67, 69, 89, 70, 90,\n",
              "       89, 80, 84, 89, 59, 90, 78])"
            ]
          },
          "metadata": {},
          "execution_count": 25
        }
      ]
    },
    {
      "cell_type": "markdown",
      "metadata": {
        "id": "BhMmZu2gf82p"
      },
      "source": [
        "Some key differences between flattening and raveling the array are:\n",
        "- `ravel()` function simply returns a flattened view of Numpy array. If you try to modify this view, you will end up with that same changes in the original array. `flatten()` function returns a flattened copy in memory of the array, so that new changes can be made without affecting the original array.\n",
        "- `ravel()` does not occupy memory, being faster than `flatten()`, which occupies memory when copying the flattened objects."
      ]
    },
    {
      "cell_type": "markdown",
      "metadata": {
        "id": "Q4CsNBFlf82q"
      },
      "source": [
        "## Exercise 2\n",
        "\n",
        "Create an array of 51 elements starting at 100 and ending at 500, using the two functions `np.linspace()` and `np.arange()`. Arrays must have the same content, with the names `array_lin` and `array_ara`, respectively. Verify that the arrays have the same content with the `np.array_equal()` function."
      ]
    },
    {
      "cell_type": "code",
      "metadata": {
        "id": "LSn5dk22f82r",
        "colab": {
          "base_uri": "https://localhost:8080/"
        },
        "outputId": "30b6afdb-8e76-4b75-d4e2-d65cba098dac"
      },
      "source": [
        "array_lin = np.linspace(start=100, stop=500, num=51)\n",
        "array_lin"
      ],
      "execution_count": 26,
      "outputs": [
        {
          "output_type": "execute_result",
          "data": {
            "text/plain": [
              "array([100., 108., 116., 124., 132., 140., 148., 156., 164., 172., 180.,\n",
              "       188., 196., 204., 212., 220., 228., 236., 244., 252., 260., 268.,\n",
              "       276., 284., 292., 300., 308., 316., 324., 332., 340., 348., 356.,\n",
              "       364., 372., 380., 388., 396., 404., 412., 420., 428., 436., 444.,\n",
              "       452., 460., 468., 476., 484., 492., 500.])"
            ]
          },
          "metadata": {},
          "execution_count": 26
        }
      ]
    },
    {
      "cell_type": "code",
      "source": [
        "array_ara = np.arange(start=100, stop=501, step=8.0)\n",
        "array_ara"
      ],
      "metadata": {
        "id": "M0zEoH68R4fR",
        "outputId": "e002d905-9126-4d2c-af98-8a05ffa03fed",
        "colab": {
          "base_uri": "https://localhost:8080/"
        }
      },
      "execution_count": 27,
      "outputs": [
        {
          "output_type": "execute_result",
          "data": {
            "text/plain": [
              "array([100., 108., 116., 124., 132., 140., 148., 156., 164., 172., 180.,\n",
              "       188., 196., 204., 212., 220., 228., 236., 244., 252., 260., 268.,\n",
              "       276., 284., 292., 300., 308., 316., 324., 332., 340., 348., 356.,\n",
              "       364., 372., 380., 388., 396., 404., 412., 420., 428., 436., 444.,\n",
              "       452., 460., 468., 476., 484., 492., 500.])"
            ]
          },
          "metadata": {},
          "execution_count": 27
        }
      ]
    },
    {
      "cell_type": "code",
      "source": [
        "np.array_equal(array_lin, array_ara)"
      ],
      "metadata": {
        "id": "_8dpheO1R8oN",
        "outputId": "e9908367-e8ed-43f6-fd66-337b01b84352",
        "colab": {
          "base_uri": "https://localhost:8080/"
        }
      },
      "execution_count": 28,
      "outputs": [
        {
          "output_type": "execute_result",
          "data": {
            "text/plain": [
              "True"
            ]
          },
          "metadata": {},
          "execution_count": 28
        }
      ]
    },
    {
      "cell_type": "markdown",
      "metadata": {
        "id": "7dO7jOTAf82z"
      },
      "source": [
        "## 6.Array indexing\n"
      ]
    },
    {
      "cell_type": "markdown",
      "metadata": {
        "id": "EfJeld7nf820"
      },
      "source": [
        "To access the content of an array we can use indexing through brackets `[ ]`. When using the brackets, we can access the elements on the list by: \n",
        "1. Using a **positive single index** starting from 0\n",
        "2. Using a **negative single index** starting from -1\n",
        "3. Using **positive index intervals** using the `start:end:step` notation to specify starting and ending values as well as the step.\n",
        "4. Using **negative index intervals** using the `start:end:step` notation to specify negative index starting and ending values as well as the step.\n",
        "\n",
        "Occasionally, we can:\n",
        "- Get ride of the the `step` value as `sart:end`, so that by default we slice the data with a `step` of 1. \n",
        "- Get ride of the `start` value as `:fin:step`, and hence our `start` index will be 0, by default.\n",
        "- Omit the `end` value as `start::step`, specifying the final position as the `end` index by default. \n",
        "- Specify the range as `::step`, and hence the `start` position will be 0 and the end position will be the last one of the array.\n",
        "\n",
        "Let's see how indexing works using the `weights` and `heights_np` arrays:"
      ]
    },
    {
      "cell_type": "code",
      "metadata": {
        "id": "R6RqaHeQf820",
        "colab": {
          "base_uri": "https://localhost:8080/"
        },
        "outputId": "7f13bdf5-a675-4d9c-97d7-be9af426c1cc"
      },
      "source": [
        "weights"
      ],
      "execution_count": 29,
      "outputs": [
        {
          "output_type": "execute_result",
          "data": {
            "text/plain": [
              "array([[[50, 45],\n",
              "        [56, 78],\n",
              "        [78, 89],\n",
              "        [59, 90],\n",
              "        [89, 78],\n",
              "        [69, 70]],\n",
              "\n",
              "       [[67, 69],\n",
              "        [89, 70],\n",
              "        [90, 89],\n",
              "        [80, 84],\n",
              "        [89, 59],\n",
              "        [90, 78]]])"
            ]
          },
          "metadata": {},
          "execution_count": 29
        }
      ]
    },
    {
      "cell_type": "code",
      "metadata": {
        "id": "6it2pxt7f828",
        "colab": {
          "base_uri": "https://localhost:8080/"
        },
        "outputId": "047030be-db5a-4f02-e34a-a1d195487669"
      },
      "source": [
        "weights_or = weights.reshape((6,4))\n",
        "weights_or"
      ],
      "execution_count": 30,
      "outputs": [
        {
          "output_type": "execute_result",
          "data": {
            "text/plain": [
              "array([[50, 45, 56, 78],\n",
              "       [78, 89, 59, 90],\n",
              "       [89, 78, 69, 70],\n",
              "       [67, 69, 89, 70],\n",
              "       [90, 89, 80, 84],\n",
              "       [89, 59, 90, 78]])"
            ]
          },
          "metadata": {},
          "execution_count": 30
        }
      ]
    },
    {
      "cell_type": "code",
      "metadata": {
        "id": "m7UcANUTf83D",
        "colab": {
          "base_uri": "https://localhost:8080/"
        },
        "outputId": "fa2877a5-cd91-4817-b45f-36d69550f115"
      },
      "source": [
        "heights_np"
      ],
      "execution_count": 31,
      "outputs": [
        {
          "output_type": "execute_result",
          "data": {
            "text/plain": [
              "array([165, 170, 171, 180, 189, 178])"
            ]
          },
          "metadata": {},
          "execution_count": 31
        }
      ]
    },
    {
      "cell_type": "markdown",
      "metadata": {
        "id": "VTFMFZL5f83I"
      },
      "source": [
        "### 6.1 Using a positive single index"
      ]
    },
    {
      "cell_type": "markdown",
      "metadata": {
        "id": "_q3t7JZIf83I"
      },
      "source": [
        "When using positive indexing, it is important to consider the first position of the array to be 0:"
      ]
    },
    {
      "cell_type": "code",
      "metadata": {
        "scrolled": true,
        "id": "ZZRGyvCHf83J",
        "colab": {
          "base_uri": "https://localhost:8080/"
        },
        "outputId": "d2e925e6-235a-4833-c4ca-7fe10ee13f66"
      },
      "source": [
        "print(\"Accessing single element in 1D array:\", heights_np[2])\n",
        "print(\"Accessing single element in 2D array:\", weights_or[1][3])"
      ],
      "execution_count": 32,
      "outputs": [
        {
          "output_type": "stream",
          "name": "stdout",
          "text": [
            "Accessing single element in 1D array: 171\n",
            "Accessing single element in 2D array: 90\n"
          ]
        }
      ]
    },
    {
      "cell_type": "code",
      "metadata": {
        "scrolled": false,
        "id": "XKXMVpzFf83N",
        "colab": {
          "base_uri": "https://localhost:8080/"
        },
        "outputId": "98c1e1d3-523a-4167-e396-28525e66e7c3"
      },
      "source": [
        "heights_np[5]"
      ],
      "execution_count": 35,
      "outputs": [
        {
          "output_type": "execute_result",
          "data": {
            "text/plain": [
              "178"
            ]
          },
          "metadata": {},
          "execution_count": 35
        }
      ]
    },
    {
      "cell_type": "markdown",
      "metadata": {
        "id": "rNyg6F4Rf83U"
      },
      "source": [
        "### 6.2 Using a negative single index starting"
      ]
    },
    {
      "cell_type": "markdown",
      "metadata": {
        "id": "Lko0mS4tf83V"
      },
      "source": [
        "When using negative indexing, it is important to consider the last position of the array to be -1:"
      ]
    },
    {
      "cell_type": "code",
      "metadata": {
        "scrolled": true,
        "id": "_N3rC53qf83V",
        "colab": {
          "base_uri": "https://localhost:8080/"
        },
        "outputId": "6176158d-34ff-4c7c-887f-3a06b7d4be12"
      },
      "source": [
        "print(\"Accessing single element in 1D array:\", heights_np[-4])\n",
        "print(\"Accessing single element in 2D array:\", weights_or[-5][-1])"
      ],
      "execution_count": 36,
      "outputs": [
        {
          "output_type": "stream",
          "name": "stdout",
          "text": [
            "Accessing single element in 1D array: 171\n",
            "Accessing single element in 2D array: 90\n"
          ]
        }
      ]
    },
    {
      "cell_type": "code",
      "metadata": {
        "scrolled": true,
        "id": "azkGg-arf83d",
        "colab": {
          "base_uri": "https://localhost:8080/"
        },
        "outputId": "0b8ca2e5-7a66-438b-ca2d-a32c7114d8c5"
      },
      "source": [
        "heights_np[-6]"
      ],
      "execution_count": 38,
      "outputs": [
        {
          "output_type": "execute_result",
          "data": {
            "text/plain": [
              "165"
            ]
          },
          "metadata": {},
          "execution_count": 38
        }
      ]
    },
    {
      "cell_type": "markdown",
      "metadata": {
        "id": "F1c5rQ_ef83k"
      },
      "source": [
        "### 6.3 Using positive index intervals"
      ]
    },
    {
      "cell_type": "markdown",
      "metadata": {
        "id": "kXaJXj4zf83m"
      },
      "source": [
        "When using positive interval indexing `start:end:step`, the starting value is inclusive and the ending value is exlusive. Here are somoe examples:"
      ]
    },
    {
      "cell_type": "code",
      "metadata": {
        "id": "hCsVNSyyf83n",
        "colab": {
          "base_uri": "https://localhost:8080/"
        },
        "outputId": "fa610f28-d426-465c-a9d5-acd465d5b360"
      },
      "source": [
        "heights_np[:2] # The default start value is 0"
      ],
      "execution_count": 39,
      "outputs": [
        {
          "output_type": "execute_result",
          "data": {
            "text/plain": [
              "array([165, 170])"
            ]
          },
          "metadata": {},
          "execution_count": 39
        }
      ]
    },
    {
      "cell_type": "code",
      "metadata": {
        "id": "YFgC96dqf83z",
        "colab": {
          "base_uri": "https://localhost:8080/"
        },
        "outputId": "39b6eaf0-921c-4e46-8d31-ddacca559b32"
      },
      "source": [
        "heights_np[2:] # The default end value is the last value of the array"
      ],
      "execution_count": 40,
      "outputs": [
        {
          "output_type": "execute_result",
          "data": {
            "text/plain": [
              "array([171, 180, 189, 178])"
            ]
          },
          "metadata": {},
          "execution_count": 40
        }
      ]
    },
    {
      "cell_type": "code",
      "metadata": {
        "id": "EGOLN-51f836",
        "colab": {
          "base_uri": "https://localhost:8080/"
        },
        "outputId": "8dbdc41c-8b0c-48be-e6f0-3ddbaf5da115"
      },
      "source": [
        "heights_np[2:3] # The ending value is exlusive"
      ],
      "execution_count": 41,
      "outputs": [
        {
          "output_type": "execute_result",
          "data": {
            "text/plain": [
              "array([171])"
            ]
          },
          "metadata": {},
          "execution_count": 41
        }
      ]
    },
    {
      "cell_type": "code",
      "source": [
        "weights"
      ],
      "metadata": {
        "id": "aDuSCF_gU9Bc",
        "outputId": "2dcbd5f8-77c1-4c0e-c98f-a070a961b2c4",
        "colab": {
          "base_uri": "https://localhost:8080/"
        }
      },
      "execution_count": 47,
      "outputs": [
        {
          "output_type": "execute_result",
          "data": {
            "text/plain": [
              "array([[[50, 45],\n",
              "        [56, 78],\n",
              "        [78, 89],\n",
              "        [59, 90],\n",
              "        [89, 78],\n",
              "        [69, 70]],\n",
              "\n",
              "       [[67, 69],\n",
              "        [89, 70],\n",
              "        [90, 89],\n",
              "        [80, 84],\n",
              "        [89, 59],\n",
              "        [90, 78]]])"
            ]
          },
          "metadata": {},
          "execution_count": 47
        }
      ]
    },
    {
      "cell_type": "code",
      "metadata": {
        "id": "0ZwwWaqaf84A",
        "colab": {
          "base_uri": "https://localhost:8080/"
        },
        "outputId": "d3e4fbe8-9bae-453d-c535-ccd345c22953"
      },
      "source": [
        "weights[:2, ::2]"
      ],
      "execution_count": 46,
      "outputs": [
        {
          "output_type": "execute_result",
          "data": {
            "text/plain": [
              "array([[[50, 45],\n",
              "        [78, 89],\n",
              "        [89, 78]],\n",
              "\n",
              "       [[67, 69],\n",
              "        [90, 89],\n",
              "        [89, 59]]])"
            ]
          },
          "metadata": {},
          "execution_count": 46
        }
      ]
    },
    {
      "cell_type": "code",
      "metadata": {
        "id": "fR-sTpfxf84F",
        "colab": {
          "base_uri": "https://localhost:8080/"
        },
        "outputId": "a6949149-67fa-4c0f-c1e5-0677a0220792"
      },
      "source": [
        "weights[:3, 3::]"
      ],
      "execution_count": 49,
      "outputs": [
        {
          "output_type": "execute_result",
          "data": {
            "text/plain": [
              "array([[[59, 90],\n",
              "        [89, 78],\n",
              "        [69, 70]],\n",
              "\n",
              "       [[80, 84],\n",
              "        [89, 59],\n",
              "        [90, 78]]])"
            ]
          },
          "metadata": {},
          "execution_count": 49
        }
      ]
    },
    {
      "cell_type": "code",
      "metadata": {
        "id": "y0ln4GDSf84L",
        "colab": {
          "base_uri": "https://localhost:8080/"
        },
        "outputId": "ff1dc410-a6ab-46e9-ad45-95a6c75c2d54"
      },
      "source": [
        "weights[:3, :3, :1]"
      ],
      "execution_count": 48,
      "outputs": [
        {
          "output_type": "execute_result",
          "data": {
            "text/plain": [
              "array([[[50],\n",
              "        [56],\n",
              "        [78]],\n",
              "\n",
              "       [[67],\n",
              "        [89],\n",
              "        [90]]])"
            ]
          },
          "metadata": {},
          "execution_count": 48
        }
      ]
    },
    {
      "cell_type": "markdown",
      "metadata": {
        "id": "MKctH8ahf84O"
      },
      "source": [
        "### 6.4 Using negative index intervals"
      ]
    },
    {
      "cell_type": "markdown",
      "metadata": {
        "id": "0YDVe-Xbf84P"
      },
      "source": [
        "When using positive interval indexing `start:end:step`, the negative starting value is inclusive and the negative ending value is exlusive. Here are somoe examples:"
      ]
    },
    {
      "cell_type": "code",
      "metadata": {
        "id": "oq8ENq2qf84Q",
        "colab": {
          "base_uri": "https://localhost:8080/"
        },
        "outputId": "9eacf836-22a1-4781-92a8-4646e2a84359"
      },
      "source": [
        "heights_np[:-4] # Equivalent to heights_np[:2]"
      ],
      "execution_count": 50,
      "outputs": [
        {
          "output_type": "execute_result",
          "data": {
            "text/plain": [
              "array([165, 170])"
            ]
          },
          "metadata": {},
          "execution_count": 50
        }
      ]
    },
    {
      "cell_type": "code",
      "metadata": {
        "id": "O-8PkOlnf84U",
        "colab": {
          "base_uri": "https://localhost:8080/"
        },
        "outputId": "522634ec-340c-4cdf-a1dc-ca17c58d5e77"
      },
      "source": [
        "heights_np[-4:] # Equivalent to heights_np[2:]"
      ],
      "execution_count": 51,
      "outputs": [
        {
          "output_type": "execute_result",
          "data": {
            "text/plain": [
              "array([171, 180, 189, 178])"
            ]
          },
          "metadata": {},
          "execution_count": 51
        }
      ]
    },
    {
      "cell_type": "code",
      "metadata": {
        "id": "xZlV59E7f84a",
        "colab": {
          "base_uri": "https://localhost:8080/"
        },
        "outputId": "a5b061f9-fd61-4139-93a0-60c237487ddc"
      },
      "source": [
        "heights_np[-4:-3] # Equivalent to heights_np[2:3]"
      ],
      "execution_count": 52,
      "outputs": [
        {
          "output_type": "execute_result",
          "data": {
            "text/plain": [
              "array([171])"
            ]
          },
          "metadata": {},
          "execution_count": 52
        }
      ]
    },
    {
      "cell_type": "code",
      "metadata": {
        "id": "nTNK-4kCf84f",
        "colab": {
          "base_uri": "https://localhost:8080/"
        },
        "outputId": "ebfa36ac-b7f6-403f-96a4-92ed1eed3282"
      },
      "source": [
        "weights[:2, -3::] # Equivalent to weights[:3, 3::]"
      ],
      "execution_count": 53,
      "outputs": [
        {
          "output_type": "execute_result",
          "data": {
            "text/plain": [
              "array([[[59, 90],\n",
              "        [89, 78],\n",
              "        [69, 70]],\n",
              "\n",
              "       [[80, 84],\n",
              "        [89, 59],\n",
              "        [90, 78]]])"
            ]
          },
          "metadata": {},
          "execution_count": 53
        }
      ]
    },
    {
      "cell_type": "code",
      "metadata": {
        "scrolled": true,
        "id": "B5BrubFYf84n",
        "colab": {
          "base_uri": "https://localhost:8080/"
        },
        "outputId": "9e0dac79-0083-48df-f8d8-50ab7f855f5a"
      },
      "source": [
        "weights[:3, :-3, :-1] # Equivalent to weights[:3, :3, :1]"
      ],
      "execution_count": 54,
      "outputs": [
        {
          "output_type": "execute_result",
          "data": {
            "text/plain": [
              "array([[[50],\n",
              "        [56],\n",
              "        [78]],\n",
              "\n",
              "       [[67],\n",
              "        [89],\n",
              "        [90]]])"
            ]
          },
          "metadata": {},
          "execution_count": 54
        }
      ]
    },
    {
      "cell_type": "markdown",
      "metadata": {
        "id": "XQrlx6_sf84s"
      },
      "source": [
        "## Exercise 3\n",
        "\n",
        "Consider the `weights_or` array:\n",
        "\n",
        "1. Select all the values that are in the even positions in the rows and in the odd positions in the columns. Create a new array named `weights_custom1` with these values.\n",
        "2. Express the `weights_custom1` array flattened with an in-memory copy. Call the new array `weights_custom2`.\n",
        "3. Select items in positions 2 to 4 inclusive with negative indexing. Name the output array as `weights_custom3`."
      ]
    },
    {
      "cell_type": "code",
      "source": [
        "weights_or"
      ],
      "metadata": {
        "id": "Q80BUqUKXxNu",
        "outputId": "fd0cebd8-ff8f-4bf3-cbfc-e1746a03560e",
        "colab": {
          "base_uri": "https://localhost:8080/"
        }
      },
      "execution_count": 76,
      "outputs": [
        {
          "output_type": "execute_result",
          "data": {
            "text/plain": [
              "array([[50, 45, 56, 78],\n",
              "       [78, 89, 59, 90],\n",
              "       [89, 78, 69, 70],\n",
              "       [67, 69, 89, 70],\n",
              "       [90, 89, 80, 84],\n",
              "       [89, 59, 90, 78]])"
            ]
          },
          "metadata": {},
          "execution_count": 76
        }
      ]
    },
    {
      "cell_type": "code",
      "metadata": {
        "id": "LDS6TnWAf84t",
        "colab": {
          "base_uri": "https://localhost:8080/"
        },
        "outputId": "0ea87d48-308c-49e4-c504-3a42f2ce3451"
      },
      "source": [
        "weights_custom1 = weights_or[::2, 1::2]\n",
        "weights_custom1"
      ],
      "execution_count": 84,
      "outputs": [
        {
          "output_type": "execute_result",
          "data": {
            "text/plain": [
              "array([[45, 78],\n",
              "       [78, 70],\n",
              "       [89, 84]])"
            ]
          },
          "metadata": {},
          "execution_count": 84
        }
      ]
    },
    {
      "cell_type": "code",
      "metadata": {
        "id": "_EKlk8_cf848",
        "colab": {
          "base_uri": "https://localhost:8080/"
        },
        "outputId": "fe085748-1d7c-4128-aeae-1993967b0108"
      },
      "source": [
        "weights_custom2 = weights_custom1.flatten()\n",
        "weights_custom2"
      ],
      "execution_count": 85,
      "outputs": [
        {
          "output_type": "execute_result",
          "data": {
            "text/plain": [
              "array([45, 78, 78, 70, 89, 84])"
            ]
          },
          "metadata": {},
          "execution_count": 85
        }
      ]
    },
    {
      "cell_type": "code",
      "metadata": {
        "id": "HyZRw1rUf85C",
        "colab": {
          "base_uri": "https://localhost:8080/"
        },
        "outputId": "b78b2d06-0585-44ad-e177-2b8f59c79164"
      },
      "source": [
        "weights_custom3 = weights_custom2[-4:-1]\n",
        "weights_custom3"
      ],
      "execution_count": 87,
      "outputs": [
        {
          "output_type": "execute_result",
          "data": {
            "text/plain": [
              "array([78, 70, 89])"
            ]
          },
          "metadata": {},
          "execution_count": 87
        }
      ]
    },
    {
      "cell_type": "markdown",
      "metadata": {
        "id": "4fQJHzwsf85n"
      },
      "source": [
        "## 7.Manipulating `Numpy` arrays\n"
      ]
    },
    {
      "cell_type": "markdown",
      "metadata": {
        "id": "9WGWmaLZf85p"
      },
      "source": [
        "Arrays can be manipulated using arithmetic, logical, or relational operations in an element-wise way. Let's see how these operations are applied, using our arrays `weights_or`, `heights_np`, and and some other arrays that we will create."
      ]
    },
    {
      "cell_type": "markdown",
      "metadata": {
        "id": "5mza7Wgaf85v"
      },
      "source": [
        "### 7.1. Arithmetic operations"
      ]
    },
    {
      "cell_type": "markdown",
      "metadata": {
        "id": "ElxXQWhPf85w"
      },
      "source": [
        "We are going to operate the content of the arrays with the four traditional arithmetic operations, addition, subtraction, product, and division. Let's first define our arrays again:"
      ]
    },
    {
      "cell_type": "code",
      "metadata": {
        "id": "lxJON3TPf85x",
        "colab": {
          "base_uri": "https://localhost:8080/"
        },
        "outputId": "79727d66-c368-4f89-eaee-4f2fe1470eca"
      },
      "source": [
        "weights_or"
      ],
      "execution_count": 88,
      "outputs": [
        {
          "output_type": "execute_result",
          "data": {
            "text/plain": [
              "array([[50, 45, 56, 78],\n",
              "       [78, 89, 59, 90],\n",
              "       [89, 78, 69, 70],\n",
              "       [67, 69, 89, 70],\n",
              "       [90, 89, 80, 84],\n",
              "       [89, 59, 90, 78]])"
            ]
          },
          "metadata": {},
          "execution_count": 88
        }
      ]
    },
    {
      "cell_type": "code",
      "metadata": {
        "id": "Y7BUpy43f858",
        "colab": {
          "base_uri": "https://localhost:8080/"
        },
        "outputId": "47758935-6161-49fa-c241-5f4de1baf35c"
      },
      "source": [
        "heights_2 = np.array([165, 175, 180, 189, 187, 186])\n",
        "print('heights_np:', heights_np) \n",
        "print('heights_2: ', heights_2)"
      ],
      "execution_count": 89,
      "outputs": [
        {
          "output_type": "stream",
          "name": "stdout",
          "text": [
            "heights_np: [165 170 171 180 189 178]\n",
            "heights_2:  [165 175 180 189 187 186]\n"
          ]
        }
      ]
    },
    {
      "cell_type": "markdown",
      "metadata": {
        "id": "pDtrCG6Nf86B"
      },
      "source": [
        "Let's add the content of the two arrays element-wise:"
      ]
    },
    {
      "cell_type": "code",
      "metadata": {
        "id": "zEqt6dsXf86C",
        "colab": {
          "base_uri": "https://localhost:8080/"
        },
        "outputId": "fde19311-0039-4508-d978-07ba1746a9de"
      },
      "source": [
        "heights_add = heights_np + heights_2\n",
        "heights_add"
      ],
      "execution_count": 90,
      "outputs": [
        {
          "output_type": "execute_result",
          "data": {
            "text/plain": [
              "array([330, 345, 351, 369, 376, 364])"
            ]
          },
          "metadata": {},
          "execution_count": 90
        }
      ]
    },
    {
      "cell_type": "markdown",
      "metadata": {
        "id": "uGovxy2Lf86O"
      },
      "source": [
        "The `np.add()` function allows adding the content of arrays element-wise:"
      ]
    },
    {
      "cell_type": "code",
      "metadata": {
        "id": "M52rnmGcf86P",
        "colab": {
          "base_uri": "https://localhost:8080/"
        },
        "outputId": "83a7f180-442d-4a2c-a592-f7247346778e"
      },
      "source": [
        "added = np.add(heights_2, heights_np)\n",
        "added"
      ],
      "execution_count": 91,
      "outputs": [
        {
          "output_type": "execute_result",
          "data": {
            "text/plain": [
              "array([330, 345, 351, 369, 376, 364])"
            ]
          },
          "metadata": {},
          "execution_count": 91
        }
      ]
    },
    {
      "cell_type": "markdown",
      "metadata": {
        "id": "cxq-GcGNf86X"
      },
      "source": [
        "## Exercise 4\n",
        "\n",
        "Since we have seen how to add element-wise elements of one-dimensional arrays:\n",
        "1. Calculate the subtraction, multiplication and division between the `heights_np` and `heights_2` arrays. Compare the results by using the functions: `np.subtract()`, `np.multiply()`, and `np.divide()`.\n",
        "2. Calculate the product element-wise of the multiplicative inverses ($1/x$) between the arrays `heights_np` and `heights_2`, using numpy functions. For instante, if an element in `heights_np` $x1=5$ and an element in `heights_2` $y1=4$, then the result should be $z=(1/x1)*(1/y1)=1/20=0.05$."
      ]
    },
    {
      "cell_type": "code",
      "metadata": {
        "id": "IVlcdzS2f86Z",
        "colab": {
          "base_uri": "https://localhost:8080/"
        },
        "outputId": "b479de03-2506-48ed-a25e-5956a02c3864"
      },
      "source": [
        "np.subtract(heights_2, heights_np)"
      ],
      "execution_count": 93,
      "outputs": [
        {
          "output_type": "execute_result",
          "data": {
            "text/plain": [
              "array([ 0,  5,  9,  9, -2,  8])"
            ]
          },
          "metadata": {},
          "execution_count": 93
        }
      ]
    },
    {
      "cell_type": "code",
      "metadata": {
        "id": "OnMnWaHYf86i",
        "colab": {
          "base_uri": "https://localhost:8080/"
        },
        "outputId": "717fa63d-0f39-4eb0-8f46-aa9701ad7ab2"
      },
      "source": [
        "np.multiply(heights_2, heights_np)"
      ],
      "execution_count": 94,
      "outputs": [
        {
          "output_type": "execute_result",
          "data": {
            "text/plain": [
              "array([27225, 29750, 30780, 34020, 35343, 33108])"
            ]
          },
          "metadata": {},
          "execution_count": 94
        }
      ]
    },
    {
      "cell_type": "code",
      "metadata": {
        "id": "odwi7RKWf86p",
        "colab": {
          "base_uri": "https://localhost:8080/"
        },
        "outputId": "c49e34ae-187b-4859-b79a-9d007ae3d291"
      },
      "source": [
        "np.divide(heights_2, heights_np)"
      ],
      "execution_count": 95,
      "outputs": [
        {
          "output_type": "execute_result",
          "data": {
            "text/plain": [
              "array([1.        , 1.02941176, 1.05263158, 1.05      , 0.98941799,\n",
              "       1.04494382])"
            ]
          },
          "metadata": {},
          "execution_count": 95
        }
      ]
    },
    {
      "cell_type": "code",
      "metadata": {
        "id": "zxpXd64Pf86t",
        "colab": {
          "base_uri": "https://localhost:8080/"
        },
        "outputId": "b3d0f781-8948-4b58-bd56-12fbde30d9f4"
      },
      "source": [
        "np.divide(heights_2, heights_np)"
      ],
      "execution_count": 97,
      "outputs": [
        {
          "output_type": "execute_result",
          "data": {
            "text/plain": [
              "array([1.        , 1.02941176, 1.05263158, 1.05      , 0.98941799,\n",
              "       1.04494382])"
            ]
          },
          "metadata": {},
          "execution_count": 97
        }
      ]
    },
    {
      "cell_type": "code",
      "source": [
        "# Without the inclusion of Numpy functions\n",
        "m_inverse1 = (1/heights_2)*(1/heights_np)\n",
        "print('Without Numpy functions:\\n',m_inverse1)\n",
        "\n",
        "# With Numpy functions\n",
        "m_inverse2 = np.multiply(np.divide(1, heights_2),np.divide(1, heights_np))\n",
        "print('\\nWith Numpy functions:\\n',m_inverse2)"
      ],
      "metadata": {
        "id": "4heuNUl6aPVW",
        "outputId": "c9817a6a-8413-4d68-a158-e9cc1d512341",
        "colab": {
          "base_uri": "https://localhost:8080/"
        }
      },
      "execution_count": 98,
      "outputs": [
        {
          "output_type": "stream",
          "name": "stdout",
          "text": [
            "Without Numpy functions:\n",
            " [3.67309458e-05 3.36134454e-05 3.24886290e-05 2.93944738e-05\n",
            " 2.82941459e-05 3.02041803e-05]\n",
            "\n",
            "With Numpy functions:\n",
            " [3.67309458e-05 3.36134454e-05 3.24886290e-05 2.93944738e-05\n",
            " 2.82941459e-05 3.02041803e-05]\n"
          ]
        }
      ]
    },
    {
      "cell_type": "markdown",
      "metadata": {
        "id": "4IZrRPhaf86z"
      },
      "source": [
        "### 7.2. Logical operations"
      ]
    },
    {
      "cell_type": "markdown",
      "metadata": {
        "id": "2GMYJb9tf86z"
      },
      "source": [
        "Logical operations are mathematical expressions whose result is a Boolean value of 0 (False) or 1 (True). Among the most common logical operations are the disjunction `or`, conjunction `and`, and negation `not`operations, among others. Let's see an example:"
      ]
    },
    {
      "cell_type": "code",
      "metadata": {
        "id": "73iJ3Fa-f861"
      },
      "source": [
        "x = np.array([True, True, False, False])\n",
        "y = np.array([True, False, True, False])"
      ],
      "execution_count": 99,
      "outputs": []
    },
    {
      "cell_type": "code",
      "metadata": {
        "id": "twei5wfUf865",
        "colab": {
          "base_uri": "https://localhost:8080/"
        },
        "outputId": "8341f38e-e1db-4a4d-fa23-99f5c01d023f"
      },
      "source": [
        "np.logical_or(x,y)"
      ],
      "execution_count": 100,
      "outputs": [
        {
          "output_type": "execute_result",
          "data": {
            "text/plain": [
              "array([ True,  True,  True, False])"
            ]
          },
          "metadata": {},
          "execution_count": 100
        }
      ]
    },
    {
      "cell_type": "code",
      "metadata": {
        "id": "s3CAf5OAf869",
        "colab": {
          "base_uri": "https://localhost:8080/"
        },
        "outputId": "0c99d3f7-399c-4d90-828f-811bf4c92482"
      },
      "source": [
        "np.logical_and(x,y)"
      ],
      "execution_count": 101,
      "outputs": [
        {
          "output_type": "execute_result",
          "data": {
            "text/plain": [
              "array([ True, False, False, False])"
            ]
          },
          "metadata": {},
          "execution_count": 101
        }
      ]
    },
    {
      "cell_type": "code",
      "metadata": {
        "id": "R1xywrYjf87C",
        "colab": {
          "base_uri": "https://localhost:8080/"
        },
        "outputId": "627d04d4-6479-4f8e-94c6-014311a8a4c0"
      },
      "source": [
        "np.logical_not(x)"
      ],
      "execution_count": 102,
      "outputs": [
        {
          "output_type": "execute_result",
          "data": {
            "text/plain": [
              "array([False, False,  True,  True])"
            ]
          },
          "metadata": {},
          "execution_count": 102
        }
      ]
    },
    {
      "cell_type": "markdown",
      "metadata": {
        "id": "eEOFfrmhf87E"
      },
      "source": [
        "### 7.3.Comparison - Relational operators"
      ]
    },
    {
      "cell_type": "markdown",
      "metadata": {
        "id": "3MfycNFPf87F"
      },
      "source": [
        "The comparison operators allow us to compare the values of the content of `numpy` arrays element-wise. Some operators of interest (a) equality operator `np.equal()`, (b) less than operator `np.less()`/`np.less_equal()`, (c) greater than operator `np.greater()`/`np.greater_equal()`, and (d) difference operator `np.not_equal()`. It is important to note that the output will always be Boolean 0 (False) or 1 (True).\n",
        "\n",
        "Let's see some examples:"
      ]
    },
    {
      "cell_type": "code",
      "metadata": {
        "id": "tkVsUowMf87F"
      },
      "source": [
        "x = np.array([1, 8, 3, 7, 3, 21])\n",
        "y = np.array([4, 8, 1, 7, 6, 9])"
      ],
      "execution_count": 103,
      "outputs": []
    },
    {
      "cell_type": "code",
      "metadata": {
        "id": "xUtFfWvrf87H",
        "colab": {
          "base_uri": "https://localhost:8080/"
        },
        "outputId": "a866f858-ad25-4af2-d248-ca27a68bb81d"
      },
      "source": [
        "np.equal(x,y)"
      ],
      "execution_count": 104,
      "outputs": [
        {
          "output_type": "execute_result",
          "data": {
            "text/plain": [
              "array([False,  True, False,  True, False, False])"
            ]
          },
          "metadata": {},
          "execution_count": 104
        }
      ]
    },
    {
      "cell_type": "code",
      "metadata": {
        "id": "uRXU49WWf87K",
        "colab": {
          "base_uri": "https://localhost:8080/"
        },
        "outputId": "91ec52bb-944f-43ff-a9fb-a62449e82bf7"
      },
      "source": [
        "np.not_equal(x,y)"
      ],
      "execution_count": 105,
      "outputs": [
        {
          "output_type": "execute_result",
          "data": {
            "text/plain": [
              "array([ True, False,  True, False,  True,  True])"
            ]
          },
          "metadata": {},
          "execution_count": 105
        }
      ]
    },
    {
      "cell_type": "code",
      "metadata": {
        "id": "Q3WKZKrBf87U",
        "colab": {
          "base_uri": "https://localhost:8080/"
        },
        "outputId": "c48d1106-5b4a-4f79-d64b-1c973814660a"
      },
      "source": [
        "np.less_equal(x,y)"
      ],
      "execution_count": 106,
      "outputs": [
        {
          "output_type": "execute_result",
          "data": {
            "text/plain": [
              "array([ True,  True, False,  True,  True, False])"
            ]
          },
          "metadata": {},
          "execution_count": 106
        }
      ]
    },
    {
      "cell_type": "code",
      "metadata": {
        "id": "kY5zDfGcf87Y",
        "colab": {
          "base_uri": "https://localhost:8080/"
        },
        "outputId": "8226d578-9d49-4a16-d0f8-44e70e7873c8"
      },
      "source": [
        "np.greater_equal(x,y)"
      ],
      "execution_count": 107,
      "outputs": [
        {
          "output_type": "execute_result",
          "data": {
            "text/plain": [
              "array([False,  True,  True,  True, False,  True])"
            ]
          },
          "metadata": {},
          "execution_count": 107
        }
      ]
    },
    {
      "cell_type": "code",
      "metadata": {
        "id": "bD8ekMQdf87d",
        "colab": {
          "base_uri": "https://localhost:8080/"
        },
        "outputId": "ef3e59ae-c428-41cf-c3fe-30962f447ad1"
      },
      "source": [
        "np.array_equal(x,y) # Comparing the entire content of both arrays"
      ],
      "execution_count": 108,
      "outputs": [
        {
          "output_type": "execute_result",
          "data": {
            "text/plain": [
              "False"
            ]
          },
          "metadata": {},
          "execution_count": 108
        }
      ]
    },
    {
      "cell_type": "code",
      "metadata": {
        "id": "H5HM9fzkf87h",
        "colab": {
          "base_uri": "https://localhost:8080/"
        },
        "outputId": "7b215ae9-1e84-47e5-f3a0-ad7b0840e345"
      },
      "source": [
        "x = np.array([1, 8, 3, 7, 3, 21])\n",
        "y = np.array(list((1, 8, 3, 7, 3, 21)))\n",
        "np.array_equal(x,y) # Comparing the entire content of both arrays"
      ],
      "execution_count": 109,
      "outputs": [
        {
          "output_type": "execute_result",
          "data": {
            "text/plain": [
              "True"
            ]
          },
          "metadata": {},
          "execution_count": 109
        }
      ]
    },
    {
      "cell_type": "markdown",
      "metadata": {
        "id": "fLS5wApRf87o"
      },
      "source": [
        "## 8. Broadcasting"
      ]
    },
    {
      "cell_type": "markdown",
      "metadata": {
        "id": "-Vc5-Jnnf87o"
      },
      "source": [
        "`numpy` has the ability of operating arrays of different shapes during arithmetic operations using **broadcasting**, so that arithmetic operations on arrays are done on corresponding elements. The boradcasting operation replicates one of the arrays along the dimensions the other, if there is a mismatch of shapes. Consider the following arrays:"
      ]
    },
    {
      "cell_type": "code",
      "metadata": {
        "id": "fgXXgRfWf87p",
        "colab": {
          "base_uri": "https://localhost:8080/"
        },
        "outputId": "ea9baf31-b64b-4517-a98b-d9390e9a4c99"
      },
      "source": [
        "heights_np = heights_np.reshape((6,1))\n",
        "heights_np"
      ],
      "execution_count": 110,
      "outputs": [
        {
          "output_type": "execute_result",
          "data": {
            "text/plain": [
              "array([[165],\n",
              "       [170],\n",
              "       [171],\n",
              "       [180],\n",
              "       [189],\n",
              "       [178]])"
            ]
          },
          "metadata": {},
          "execution_count": 110
        }
      ]
    },
    {
      "cell_type": "code",
      "metadata": {
        "id": "uyDE32FWf87x",
        "colab": {
          "base_uri": "https://localhost:8080/"
        },
        "outputId": "5555d0ed-4aaa-4648-e711-d1108e75a9de"
      },
      "source": [
        "weights"
      ],
      "execution_count": 111,
      "outputs": [
        {
          "output_type": "execute_result",
          "data": {
            "text/plain": [
              "array([[[50, 45],\n",
              "        [56, 78],\n",
              "        [78, 89],\n",
              "        [59, 90],\n",
              "        [89, 78],\n",
              "        [69, 70]],\n",
              "\n",
              "       [[67, 69],\n",
              "        [89, 70],\n",
              "        [90, 89],\n",
              "        [80, 84],\n",
              "        [89, 59],\n",
              "        [90, 78]]])"
            ]
          },
          "metadata": {},
          "execution_count": 111
        }
      ]
    },
    {
      "cell_type": "markdown",
      "metadata": {
        "id": "mQmM6Q7yf870"
      },
      "source": [
        "We are going to add the elements of both arrays:"
      ]
    },
    {
      "cell_type": "code",
      "metadata": {
        "id": "VCu2iGPMf871",
        "colab": {
          "base_uri": "https://localhost:8080/"
        },
        "outputId": "3ea2a8f1-7069-4793-d56e-c2dc89517d12"
      },
      "source": [
        "broad_np = heights_np + weights\n",
        "broad_np"
      ],
      "execution_count": 112,
      "outputs": [
        {
          "output_type": "execute_result",
          "data": {
            "text/plain": [
              "array([[[215, 210],\n",
              "        [226, 248],\n",
              "        [249, 260],\n",
              "        [239, 270],\n",
              "        [278, 267],\n",
              "        [247, 248]],\n",
              "\n",
              "       [[232, 234],\n",
              "        [259, 240],\n",
              "        [261, 260],\n",
              "        [260, 264],\n",
              "        [278, 248],\n",
              "        [268, 256]]])"
            ]
          },
          "metadata": {},
          "execution_count": 112
        }
      ]
    },
    {
      "cell_type": "markdown",
      "metadata": {
        "id": "OjvMdK5Xf875"
      },
      "source": [
        "Although the arrays have different dimensions, `numpy` makes a sum for the corresponding elements in common rows and columns, in such a way that the elements of the column vector `heights_np` are added with each column of the two-dimensional vector `weights`.\n",
        "\n",
        "Let's look at one more example:"
      ]
    },
    {
      "cell_type": "code",
      "metadata": {
        "id": "fZdEzysff876"
      },
      "source": [
        "x = np.ones((3,4))\n",
        "y = np.random.random((5,1,4))"
      ],
      "execution_count": 113,
      "outputs": []
    },
    {
      "cell_type": "code",
      "metadata": {
        "id": "uRcAROTYf879",
        "outputId": "3df28d8d-b9ef-4a02-97a9-475f1b6d5559"
      },
      "source": [
        "x"
      ],
      "execution_count": null,
      "outputs": [
        {
          "output_type": "execute_result",
          "data": {
            "text/plain": [
              "array([[1., 1., 1., 1.],\n",
              "       [1., 1., 1., 1.],\n",
              "       [1., 1., 1., 1.]])"
            ]
          },
          "metadata": {
            "tags": []
          },
          "execution_count": 191
        }
      ]
    },
    {
      "cell_type": "code",
      "metadata": {
        "id": "uz4cNW4yf88I",
        "colab": {
          "base_uri": "https://localhost:8080/"
        },
        "outputId": "ff3a23d3-2871-403c-b207-aece909d5db3"
      },
      "source": [
        "y"
      ],
      "execution_count": 114,
      "outputs": [
        {
          "output_type": "execute_result",
          "data": {
            "text/plain": [
              "array([[[0.88086258, 0.33992139, 0.21972061, 0.32469614]],\n",
              "\n",
              "       [[0.49277511, 0.42846923, 0.08561972, 0.05190487]],\n",
              "\n",
              "       [[0.95979276, 0.30275063, 0.37610315, 0.54916093]],\n",
              "\n",
              "       [[0.00760633, 0.13545842, 0.94889462, 0.3914398 ]],\n",
              "\n",
              "       [[0.75944773, 0.8156246 , 0.65954839, 0.19460507]]])"
            ]
          },
          "metadata": {},
          "execution_count": 114
        }
      ]
    },
    {
      "cell_type": "code",
      "metadata": {
        "id": "lAVevw1of88R",
        "colab": {
          "base_uri": "https://localhost:8080/"
        },
        "outputId": "d5259ef0-4bc6-438e-c595-6849e3059c3e"
      },
      "source": [
        "z = x + y\n",
        "z"
      ],
      "execution_count": 115,
      "outputs": [
        {
          "output_type": "execute_result",
          "data": {
            "text/plain": [
              "array([[[1.88086258, 1.33992139, 1.21972061, 1.32469614],\n",
              "        [1.88086258, 1.33992139, 1.21972061, 1.32469614],\n",
              "        [1.88086258, 1.33992139, 1.21972061, 1.32469614]],\n",
              "\n",
              "       [[1.49277511, 1.42846923, 1.08561972, 1.05190487],\n",
              "        [1.49277511, 1.42846923, 1.08561972, 1.05190487],\n",
              "        [1.49277511, 1.42846923, 1.08561972, 1.05190487]],\n",
              "\n",
              "       [[1.95979276, 1.30275063, 1.37610315, 1.54916093],\n",
              "        [1.95979276, 1.30275063, 1.37610315, 1.54916093],\n",
              "        [1.95979276, 1.30275063, 1.37610315, 1.54916093]],\n",
              "\n",
              "       [[1.00760633, 1.13545842, 1.94889462, 1.3914398 ],\n",
              "        [1.00760633, 1.13545842, 1.94889462, 1.3914398 ],\n",
              "        [1.00760633, 1.13545842, 1.94889462, 1.3914398 ]],\n",
              "\n",
              "       [[1.75944773, 1.8156246 , 1.65954839, 1.19460507],\n",
              "        [1.75944773, 1.8156246 , 1.65954839, 1.19460507],\n",
              "        [1.75944773, 1.8156246 , 1.65954839, 1.19460507]]])"
            ]
          },
          "metadata": {},
          "execution_count": 115
        }
      ]
    },
    {
      "cell_type": "markdown",
      "metadata": {
        "id": "gveruh19f88W"
      },
      "source": [
        "Here each row in array `y` has been paired with rows in array `x`, since they have the same amount of column. The result is an array with triple the rows of array `y` and the same number of columns."
      ]
    },
    {
      "cell_type": "markdown",
      "metadata": {
        "id": "A7-1g-4nf88X"
      },
      "source": [
        "## Exercise 5\n",
        "\n",
        "Propose an array `y` such that the operation $x + y$ results in the array `z`.\n",
        "```\n",
        "x = [[14, 15, 18],\n",
        "    [62, 90, 98],\n",
        "    [71, 73, 90],\n",
        "    [40, 24, 17],\n",
        "    [11, 81, 14],\n",
        "    [26, 81, 31]]\n",
        "\n",
        "z = [[24,  40,  58],\n",
        "    [72, 115, 138],\n",
        "    [81,  98, 130],\n",
        "    [50,  49,  57],\n",
        "    [21, 106,  54],\n",
        "    [36, 106,  71]]\n",
        "```"
      ]
    },
    {
      "cell_type": "code",
      "metadata": {
        "id": "MDxjJAjAf88X"
      },
      "source": [
        "x =np.array([[14, 15, 18],\n",
        "    [62, 90, 98],\n",
        "    [71, 73, 90],\n",
        "    [40, 24, 17],\n",
        "    [11, 81, 14],\n",
        "    [26, 81, 31]])\n",
        "\n",
        "z = np.array([[24,  40,  58],\n",
        "    [72, 115, 138],\n",
        "    [81,  98, 130],\n",
        "    [50,  49,  57],\n",
        "    [21, 106,  54],\n",
        "    [36, 106,  71]])"
      ],
      "execution_count": 122,
      "outputs": []
    },
    {
      "cell_type": "code",
      "source": [
        "y = (z-x)[1]\n",
        "y"
      ],
      "metadata": {
        "id": "jei3O1XydVVd",
        "outputId": "df9bf127-ea31-459b-b029-3293df6dbc4c",
        "colab": {
          "base_uri": "https://localhost:8080/"
        }
      },
      "execution_count": 125,
      "outputs": [
        {
          "output_type": "execute_result",
          "data": {
            "text/plain": [
              "array([10, 25, 40])"
            ]
          },
          "metadata": {},
          "execution_count": 125
        }
      ]
    },
    {
      "cell_type": "markdown",
      "metadata": {
        "id": "01h2ZBRof88c"
      },
      "source": [
        "## 9.Matrix multiplication"
      ]
    },
    {
      "cell_type": "markdown",
      "metadata": {
        "id": "Cfpn307pf88g"
      },
      "source": [
        "Let's delve into the element-wise and dot product multiplication between matrices (two-dimensional arrays). First, we define two matrices:"
      ]
    },
    {
      "cell_type": "code",
      "metadata": {
        "id": "ualh0UyRf88h",
        "colab": {
          "base_uri": "https://localhost:8080/"
        },
        "outputId": "928fb6f1-1121-4b8c-df5f-7fc60c524635"
      },
      "source": [
        "A = np.array([[1,1,8],[0,1,9],[9,0,8]])\n",
        "print(\"Matrix A:\\n\", A, '\\n')\n",
        "\n",
        "B = np.array([[2,0,0],[3,4,9],[7,8,9]])\n",
        "print('MATRIX B:\\n', B, '\\n')"
      ],
      "execution_count": 126,
      "outputs": [
        {
          "output_type": "stream",
          "name": "stdout",
          "text": [
            "Matrix A:\n",
            " [[1 1 8]\n",
            " [0 1 9]\n",
            " [9 0 8]] \n",
            "\n",
            "MATRIX B:\n",
            " [[2 0 0]\n",
            " [3 4 9]\n",
            " [7 8 9]] \n",
            "\n"
          ]
        }
      ]
    },
    {
      "cell_type": "markdown",
      "metadata": {
        "id": "M1SBY0cdf88n"
      },
      "source": [
        "The product between the two matrices can be executed with the classic arithmetic operator `*`:"
      ]
    },
    {
      "cell_type": "code",
      "metadata": {
        "id": "MTw8eMcQf88o",
        "colab": {
          "base_uri": "https://localhost:8080/"
        },
        "outputId": "8291cf54-5fea-4109-9cb7-a700910170cf"
      },
      "source": [
        "print(\"Element wise multiplication:\\n\", A*B, '\\n')"
      ],
      "execution_count": 127,
      "outputs": [
        {
          "output_type": "stream",
          "name": "stdout",
          "text": [
            "Element wise multiplication:\n",
            " [[ 2  0  0]\n",
            " [ 0  4 81]\n",
            " [63  0 72]] \n",
            "\n"
          ]
        }
      ]
    },
    {
      "cell_type": "markdown",
      "metadata": {
        "id": "4nb2aUfQf88r"
      },
      "source": [
        "The dot product of matrices can be executed with the `@` operator or with the numpy `np.dot()` function:"
      ]
    },
    {
      "cell_type": "code",
      "metadata": {
        "id": "svM0Lk04f88s",
        "colab": {
          "base_uri": "https://localhost:8080/"
        },
        "outputId": "5264b06a-075b-4b3b-90b0-1d4a9f301422"
      },
      "source": [
        "print(\"Matrix product:\\n\", A@B, '\\n') # matrix A = (2 ,3) , matrix B= (3,4), output matrix =( 2,4)\n",
        "print(\"Dot product:\\n\", A.dot(B), '\\n')"
      ],
      "execution_count": 128,
      "outputs": [
        {
          "output_type": "stream",
          "name": "stdout",
          "text": [
            "Matrix product:\n",
            " [[61 68 81]\n",
            " [66 76 90]\n",
            " [74 64 72]] \n",
            "\n",
            "Dot product:\n",
            " [[61 68 81]\n",
            " [66 76 90]\n",
            " [74 64 72]] \n",
            "\n"
          ]
        }
      ]
    },
    {
      "cell_type": "markdown",
      "metadata": {
        "id": "l4lf81DJf88y"
      },
      "source": [
        "## 10. Arrays with `random` numbers"
      ]
    },
    {
      "cell_type": "markdown",
      "metadata": {
        "id": "VTH1fTJef88y"
      },
      "source": [
        "A random number is a result of a variable combination specified by a distribution function. When no distribution is specified, it is assumed that the continuous uniform distribution in the interval [0,1) is used. Some functions for generating random numpy numbers are:\n",
        "- `np.random.random()`: returns random floats in the half-open interval [0.0, 1.0)\n",
        "- `np.random.randint(low, high)`: returns random integers from low (inclusive) to high (exclusive).\n",
        "- `np.random.normal()`: returns random samples from a normal (Gaussian) distribution.\n",
        "\n",
        "Let's see some examples:"
      ]
    },
    {
      "cell_type": "code",
      "metadata": {
        "id": "UKm6quFsf880",
        "colab": {
          "base_uri": "https://localhost:8080/"
        },
        "outputId": "188c16e0-f48e-435b-84be-3372ed6bb840"
      },
      "source": [
        "np.random.random((4,3))"
      ],
      "execution_count": 129,
      "outputs": [
        {
          "output_type": "execute_result",
          "data": {
            "text/plain": [
              "array([[0.54032074, 0.2624749 , 0.98302277],\n",
              "       [0.39622896, 0.8149938 , 0.85772372],\n",
              "       [0.96754878, 0.56387027, 0.79310175],\n",
              "       [0.11107599, 0.51907219, 0.60753807]])"
            ]
          },
          "metadata": {},
          "execution_count": 129
        }
      ]
    },
    {
      "cell_type": "code",
      "metadata": {
        "id": "Z6KREOQ6f886",
        "outputId": "8b0a85f2-f976-4659-c1ad-c865c211f537"
      },
      "source": [
        "np.random.randint(10, 20, size=(2, 4))"
      ],
      "execution_count": null,
      "outputs": [
        {
          "output_type": "execute_result",
          "data": {
            "text/plain": [
              "array([[19, 19, 10, 18],\n",
              "       [11, 16, 16, 11]])"
            ]
          },
          "metadata": {
            "tags": []
          },
          "execution_count": 232
        }
      ]
    },
    {
      "cell_type": "code",
      "metadata": {
        "id": "vxMDECBPf889",
        "colab": {
          "base_uri": "https://localhost:8080/"
        },
        "outputId": "15905c5f-2bb8-4fc9-d942-5eb87c412f42"
      },
      "source": [
        "np.random.normal(size=10)"
      ],
      "execution_count": 130,
      "outputs": [
        {
          "output_type": "execute_result",
          "data": {
            "text/plain": [
              "array([ 0.6398217 , -1.03910482,  2.59298214,  0.95012137, -1.82151164,\n",
              "       -0.84205932,  0.72106486, -0.02203925, -0.18227986,  1.13216452])"
            ]
          },
          "metadata": {},
          "execution_count": 130
        }
      ]
    },
    {
      "cell_type": "markdown",
      "metadata": {
        "id": "MtooXTQef89A"
      },
      "source": [
        "Ee can also specify a `seed`, so that the sequence of random numbers is repeatable (if you execute the following code several times, you will get the same random results):"
      ]
    },
    {
      "cell_type": "code",
      "metadata": {
        "id": "Df77Kx3wf89B",
        "colab": {
          "base_uri": "https://localhost:8080/"
        },
        "outputId": "7a9f898b-0023-41f7-d6db-d46a42a9c3cf"
      },
      "source": [
        "from numpy.random import seed\n",
        "from numpy.random import rand\n",
        "\n",
        "# Seed random number generator\n",
        "seed(10)\n",
        "\n",
        "# Generate random numbers between 0-1\n",
        "values = rand(10)\n",
        "print(values)"
      ],
      "execution_count": 144,
      "outputs": [
        {
          "output_type": "stream",
          "name": "stdout",
          "text": [
            "[0.77132064 0.02075195 0.63364823 0.74880388 0.49850701 0.22479665\n",
            " 0.19806286 0.76053071 0.16911084 0.08833981]\n"
          ]
        }
      ]
    },
    {
      "cell_type": "markdown",
      "metadata": {
        "id": "iXJBJnNuf89E"
      },
      "source": [
        "## 11. Concatenate, and stack `Numpy` arrays"
      ]
    },
    {
      "cell_type": "markdown",
      "metadata": {
        "id": "kVY0Sczdf89F"
      },
      "source": [
        "The **concatenation** `np.concatenate()` is a process of joining several arrays to form one, on the same axis. **Stacking** `np.stack()` is a process of joining arrays on a new axis. Let's dive a little bit more on this concepts with practical examples:"
      ]
    },
    {
      "cell_type": "code",
      "metadata": {
        "id": "EeXmRI4vf89G",
        "colab": {
          "base_uri": "https://localhost:8080/"
        },
        "outputId": "9483f10f-a06f-4a61-cd8e-c3ab33993f41"
      },
      "source": [
        "my_array = np.array([1,2,34,5])\n",
        "x = np.array([1,4,5,6])\n",
        "print('x: \\t  ', x)\n",
        "print('my_array: ', my_array)"
      ],
      "execution_count": 145,
      "outputs": [
        {
          "output_type": "stream",
          "name": "stdout",
          "text": [
            "x: \t   [1 4 5 6]\n",
            "my_array:  [ 1  2 34  5]\n"
          ]
        }
      ]
    },
    {
      "cell_type": "code",
      "metadata": {
        "id": "clNfLcnof89I",
        "colab": {
          "base_uri": "https://localhost:8080/"
        },
        "outputId": "c26258a7-4a37-483d-9d66-ab7d8897a45b"
      },
      "source": [
        "print('Append:\\n',np.append(my_array,x))\n",
        "y = np.append(my_array, x)\n",
        "\n",
        "# Concatentate `my_array` and `x`\n",
        "print('\\nConcatenate:\\n',np.concatenate((my_array,x)))"
      ],
      "execution_count": 146,
      "outputs": [
        {
          "output_type": "stream",
          "name": "stdout",
          "text": [
            "Append:\n",
            " [ 1  2 34  5  1  4  5  6]\n",
            "\n",
            "Concatenate:\n",
            " [ 1  2 34  5  1  4  5  6]\n"
          ]
        }
      ]
    },
    {
      "cell_type": "code",
      "metadata": {
        "id": "_7bJKBFtf89Q",
        "colab": {
          "base_uri": "https://localhost:8080/"
        },
        "outputId": "66a67271-fbcc-4cb9-bde7-a084c938d113"
      },
      "source": [
        "# Stack arrays vertically (row-wise)\n",
        "print(\"Stack row wise:\")\n",
        "print(np.vstack((my_array, x)))"
      ],
      "execution_count": 147,
      "outputs": [
        {
          "output_type": "stream",
          "name": "stdout",
          "text": [
            "Stack row wise:\n",
            "[[ 1  2 34  5]\n",
            " [ 1  4  5  6]]\n"
          ]
        }
      ]
    },
    {
      "cell_type": "code",
      "metadata": {
        "id": "SWYSIGd2f89V",
        "colab": {
          "base_uri": "https://localhost:8080/"
        },
        "outputId": "a9370d86-3986-4b05-d3a6-dabd497c3aae"
      },
      "source": [
        "# Stack arrays horizontally\n",
        "print(\"Stack horizantally:\")\n",
        "print(np.hstack((my_array,x)))\n",
        "\n",
        "print(\"\\nAnother way:\")\n",
        "print(np.r_[my_array,x])"
      ],
      "execution_count": 148,
      "outputs": [
        {
          "output_type": "stream",
          "name": "stdout",
          "text": [
            "Stack horizantally:\n",
            "[ 1  2 34  5  1  4  5  6]\n",
            "\n",
            "Another way:\n",
            "[ 1  2 34  5  1  4  5  6]\n"
          ]
        }
      ]
    },
    {
      "cell_type": "code",
      "metadata": {
        "id": "01esLgVJf89X",
        "colab": {
          "base_uri": "https://localhost:8080/"
        },
        "outputId": "7435349a-6d33-4ec9-c6db-a29457c17f71"
      },
      "source": [
        "# Stack arrays column-wise\n",
        "print(\"Stack column wise:\")\n",
        "print(np.column_stack(( my_array,x)))\n",
        "\n",
        "print(\"\\nColumn wise repeat:\")\n",
        "print(np.c_[ my_array,x])"
      ],
      "execution_count": 149,
      "outputs": [
        {
          "output_type": "stream",
          "name": "stdout",
          "text": [
            "Stack column wise:\n",
            "[[ 1  1]\n",
            " [ 2  4]\n",
            " [34  5]\n",
            " [ 5  6]]\n",
            "\n",
            "Column wise repeat:\n",
            "[[ 1  1]\n",
            " [ 2  4]\n",
            " [34  5]\n",
            " [ 5  6]]\n"
          ]
        }
      ]
    },
    {
      "cell_type": "markdown",
      "metadata": {
        "id": "BhNtyz95f89Z"
      },
      "source": [
        "As you have seen, when we concatenate the arrays, we do it on the same axis. When stacking arrays, we do it on a new axis."
      ]
    },
    {
      "cell_type": "markdown",
      "metadata": {
        "id": "Bwr6bR0Yf89Z"
      },
      "source": [
        "## 12. Visualize `Numpy` array"
      ]
    },
    {
      "cell_type": "markdown",
      "metadata": {
        "id": "HmeK1Uo5f89a"
      },
      "source": [
        "To visualize the content of a numpy array we can make use of the `matplotlib.pyplot` library, which allows us to visualize data and its distributions, among many other functions."
      ]
    },
    {
      "cell_type": "code",
      "metadata": {
        "id": "_DzI6kD1f89a"
      },
      "source": [
        "import matplotlib.pyplot as plt"
      ],
      "execution_count": 150,
      "outputs": []
    },
    {
      "cell_type": "markdown",
      "metadata": {
        "id": "3X18qf_pf89c"
      },
      "source": [
        "Let's specify an initial state for the Mersenne Twister number generator, a pseudo-random number generator:"
      ]
    },
    {
      "cell_type": "code",
      "metadata": {
        "id": "fnn7PTnpf89c",
        "colab": {
          "base_uri": "https://localhost:8080/"
        },
        "outputId": "a900a95e-15fc-4a05-8c73-31dbb8435382"
      },
      "source": [
        "rng = np.random.RandomState(10) \n",
        "rng"
      ],
      "execution_count": 153,
      "outputs": [
        {
          "output_type": "execute_result",
          "data": {
            "text/plain": [
              "RandomState(MT19937) at 0x7FA3C9F77160"
            ]
          },
          "metadata": {},
          "execution_count": 153
        }
      ]
    },
    {
      "cell_type": "markdown",
      "metadata": {
        "id": "FPOQujvIf89e"
      },
      "source": [
        "Now we generate random values of two normal distributions with different mean and standard deviation, a distribution of mean 0 and another of mean 5, stacking them in a single array horizontally:"
      ]
    },
    {
      "cell_type": "code",
      "metadata": {
        "id": "yPqv_8MSf89e",
        "colab": {
          "base_uri": "https://localhost:8080/"
        },
        "outputId": "0d464abe-17ae-48c0-eb8f-190ccf1aa0f3"
      },
      "source": [
        "a = np.hstack((rng.normal(size=1000),rng.normal(loc=5, scale=2, size=1000)))\n",
        "a"
      ],
      "execution_count": 154,
      "outputs": [
        {
          "output_type": "execute_result",
          "data": {
            "text/plain": [
              "array([ 1.3315865 ,  0.71527897, -1.54540029, ...,  5.74446677,\n",
              "        6.22449239,  8.42055014])"
            ]
          },
          "metadata": {},
          "execution_count": 154
        }
      ]
    },
    {
      "cell_type": "markdown",
      "metadata": {
        "id": "_9Dof31hf89h"
      },
      "source": [
        "Let's visualize the data of the number arrangement of the two distributions, in a histogram with the help of the library `matplotlib.pyplot` to which we have aliased `plt`:"
      ]
    },
    {
      "cell_type": "code",
      "metadata": {
        "id": "0dep-zq-f89i",
        "colab": {
          "base_uri": "https://localhost:8080/",
          "height": 281
        },
        "outputId": "357e8aba-85a8-49d4-99d9-b2d50316e430"
      },
      "source": [
        "plt.hist(a, bins='auto')\n",
        "plt.title(\"Histogram\")\n",
        "plt.show()\n"
      ],
      "execution_count": 156,
      "outputs": [
        {
          "output_type": "display_data",
          "data": {
            "text/plain": [
              "<Figure size 432x288 with 1 Axes>"
            ],
            "image/png": "[encoded data removed]"
          },
          "metadata": {
            "needs_background": "light"
          }
        }
      ]
    },
    {
      "cell_type": "markdown",
      "metadata": {
        "id": "_1VR0dbSf89l"
      },
      "source": [
        "As can be seen, this graph denotes the distribution of the two normal distributions with a mean of 0 and 5.\n",
        "\n",
        "As an additional example, we are creating a meshgrid `np.meshgrid()` with values generated from an array of `numpy` with initial value of 5, final value of -5 (exclusive) and step of 0.01. We have calculated the value of `z` which corresponds to the general equation of a circle, so that we can generate the graph shown below:"
      ]
    },
    {
      "cell_type": "code",
      "metadata": {
        "id": "FGS6p0JKf89l",
        "colab": {
          "base_uri": "https://localhost:8080/",
          "height": 269
        },
        "outputId": "08fef035-fbaf-4d00-e1db-2e252788359a"
      },
      "source": [
        "# Create an array\n",
        "points = np.arange(-5, 5, 0.01)\n",
        "\n",
        "# Make a meshgrid\n",
        "xs, ys = np.meshgrid(points, points)\n",
        "z = np.sqrt(xs ** 2 + ys ** 2)\n",
        "\n",
        "# Display the image on the axes\n",
        "plt.imshow(z, cmap=plt.cm.Reds)\n",
        "\n",
        "# Draw a color bar\n",
        "plt.colorbar()\n",
        "\n",
        "# Show the plot\n",
        "plt.show()"
      ],
      "execution_count": 157,
      "outputs": [
        {
          "output_type": "display_data",
          "data": {
            "text/plain": [
              "<Figure size 432x288 with 2 Axes>"
            ],
            "image/png": "[encoded data removed]"
          },
          "metadata": {
            "needs_background": "light"
          }
        }
      ]
    },
    {
      "cell_type": "markdown",
      "metadata": {
        "id": "XmZ4smUcf89q"
      },
      "source": [
        "## 13. Save the numpy ndarray object into a npy file"
      ]
    },
    {
      "cell_type": "markdown",
      "metadata": {
        "id": "mor-Nulpf89r"
      },
      "source": [
        "Finally, one of the most important parts of the entire analysis process, the storage of the results. We can do this with the `np.savetxt()` function:"
      ]
    },
    {
      "cell_type": "code",
      "metadata": {
        "id": "bQsxuM45f89s"
      },
      "source": [
        "import numpy as np\n",
        "x = np.arange(0.0,5.0,1.0)\n",
        "np.savetxt('test.txt', x, delimiter=',')"
      ],
      "execution_count": 158,
      "outputs": []
    },
    {
      "cell_type": "markdown",
      "metadata": {
        "id": "72_3EDqvf89u"
      },
      "source": [
        "## Conclusions"
      ]
    },
    {
      "cell_type": "markdown",
      "metadata": {
        "id": "6wI9rklxf89v"
      },
      "source": [
        "We have learned the fundamentals of the `numpy` library for scientific computing, which allows us to create multidimensional arrays and operate them using arithmetic, logical, and relational operators. We have also learned how to restructure arrangements in various ways, as well as the basic tools for visualization. \n",
        "\n",
        "In the next case study, we will see what is related to the `pandas` library, so we are ready to do data analysis dynamically and efficiently!"
      ]
    },
    {
      "cell_type": "code",
      "source": [
        ""
      ],
      "metadata": {
        "id": "5HnqIG4Kh95w"
      },
      "execution_count": null,
      "outputs": []
    }
  ]
}